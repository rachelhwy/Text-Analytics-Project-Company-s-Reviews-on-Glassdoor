{
 "cells": [
  {
   "cell_type": "code",
   "execution_count": 44,
   "metadata": {},
   "outputs": [],
   "source": [
    "import pandas as pd\n",
    "df1 = pd.read_csv('accenture.csv')\n",
    "df2 = pd.read_csv('general_motor.csv')\n",
    "df3 = pd.read_csv('ibm.csv')\n",
    "df4 = pd.read_csv('Indeed.csv')"
   ]
  },
  {
   "cell_type": "code",
   "execution_count": 97,
   "metadata": {},
   "outputs": [],
   "source": [
    "mask1 = (df1['jobtitle'].str.contains('Data|Analyst|Engineer|Scientist|Cognitive|Database|Cloud|Solution|Software', na = False) \n",
    "        | df1['title'].str.contains('Data|data|Analyst|Engineer|Scientist|Cognitive|Database|cloud|solution|software', na = False))\n",
    "df11 = df1[mask1]\n",
    "df11 = df11[['web-scraper-order', 'pros', 'cons', 'time', 'rating', 'tenure', 'recommend', 'jobtitle', 'advice', 'title']]\n",
    "df11.reset_index(drop = True)\n",
    "df11.to_csv('accenture.csv', index = False)"
   ]
  },
  {
   "cell_type": "code",
   "execution_count": 98,
   "metadata": {},
   "outputs": [],
   "source": [
    "mask2 = (df2['jobtitle'].str.contains('Data|Analyst|Engineer|Scientist|Cognitive|Database|Cloud|Solution|Software', na = False) \n",
    "        | df2['title'].str.contains('Data|data|Analyst|Engineer|Scientist|Cognitive|Database|cloud|solution|software', na = False))\n",
    "df22= df2[mask2]\n",
    "df22 = df22[['web-scraper-order', 'pros', 'cons', 'time', 'rating', 'tenure', 'recommend', 'jobtitle', 'advice', 'title']]\n",
    "df22.reset_index(drop = True)\n",
    "df22.to_csv('gm.csv', index = False)"
   ]
  },
  {
   "cell_type": "code",
   "execution_count": 92,
   "metadata": {},
   "outputs": [],
   "source": [
    "mask3 = (df3['jobtitle'].str.contains('Data|Analyst|Engineer|Scientist|Cognitive|Database|Cloud|Solution|Software', na = False) \n",
    "        | df3['title'].str.contains('Data|data|Analyst|Engineer|Scientist|Cognitive|Database|cloud|solution|software', na = False))\n",
    "df33= df3[mask3]\n",
    "df33 = df33[['web-scraper-order', 'pros', 'cons', 'time', 'rating', 'tenure', 'recommend', 'jobtitle', 'advice', 'title']]\n",
    "df33.reset_index(drop = True)\n",
    "df33.to_csv('ibm.csv', index = False)"
   ]
  },
  {
   "cell_type": "code",
   "execution_count": 95,
   "metadata": {},
   "outputs": [],
   "source": [
    "df4 = df4[['web-scraper-order', 'pros', 'cons', 'time', 'rating', 'tenure', 'recommend', 'jobtitle', 'advice', 'title']]\n",
    "df4.reset_index(drop = True)\n",
    "df4.to_csv('indeed.csv', index = False)"
   ]
  },
  {
   "cell_type": "code",
   "execution_count": 99,
   "metadata": {},
   "outputs": [],
   "source": [
    "df1 = pd.read_csv('accenture.csv')\n",
    "df2 = pd.read_csv('gm.csv')\n",
    "df3 = pd.read_csv('ibm.csv')\n",
    "df4 = pd.read_csv('indeed.csv')"
   ]
  },
  {
   "cell_type": "code",
   "execution_count": null,
   "metadata": {},
   "outputs": [],
   "source": []
  }
 ],
 "metadata": {
  "kernelspec": {
   "display_name": "Python 2",
   "language": "python",
   "name": "python2"
  },
  "language_info": {
   "codemirror_mode": {
    "name": "ipython",
    "version": 2
   },
   "file_extension": ".py",
   "mimetype": "text/x-python",
   "name": "python",
   "nbconvert_exporter": "python",
   "pygments_lexer": "ipython2",
   "version": "2.7.15"
  }
 },
 "nbformat": 4,
 "nbformat_minor": 2
}
